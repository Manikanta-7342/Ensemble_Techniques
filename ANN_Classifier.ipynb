{
 "cells": [
  {
   "cell_type": "code",
   "execution_count": null,
   "id": "7dd4312e",
   "metadata": {},
   "outputs": [],
   "source": [
    "# Import libraries and data import tensorflow as tf \n",
    "from tensorflow import keras \n",
    "from sklearn.preprocessing import MinMaxScaler \n",
    "import pandas as pd \n",
    "from sklearn.metrics import accuracy_score"
   ]
  },
  {
   "cell_type": "code",
   "execution_count": null,
   "id": "007f7311",
   "metadata": {},
   "outputs": [],
   "source": [
    "data = pd.read_csv('../bank_marketing.csv') \n",
    "data.head()"
   ]
  },
  {
   "cell_type": "code",
   "execution_count": null,
   "id": "6783812f",
   "metadata": {},
   "outputs": [],
   "source": [
    "# Scale the numeric columns\n",
    "scaler = MinMaxScaler() \n",
    "col_to_scale =['age'] \n",
    "data[col_to_scale] = scaler.fit_transform(data[col_to_scale]) \n",
    "data.head()"
   ]
  },
  {
   "cell_type": "code",
   "execution_count": null,
   "id": "404d1764",
   "metadata": {},
   "outputs": [],
   "source": [
    "# Choose the independent and dependent variable \n",
    "X = data.drop('y',axis = 1) \n",
    "Y = data['y']"
   ]
  },
  {
   "cell_type": "code",
   "execution_count": null,
   "id": "0819f09c",
   "metadata": {},
   "outputs": [],
   "source": [
    "# Train, test/validation split \n",
    "X_train, X_test, y_train, y_test = train_test_split(X,Y, test_size = 0.20, random_state = 42) \n",
    "test_df = pd.concat ([X_test,y_test],axis =1 )"
   ]
  },
  {
   "cell_type": "code",
   "execution_count": null,
   "id": "f664e640",
   "metadata": {},
   "outputs": [],
   "source": [
    "# Create the network \n",
    "model = keras.Sequential([ \n",
    "    keras.layers.Dense(3, input_shape = (5,),activation = 'relu'), \n",
    "    keras.layers.Dense(2, input_shape = (3,),activation = 'relu'), \n",
    "    keras.layers.Dense(1,activation = 'sigmoid'),\n",
    "])"
   ]
  },
  {
   "cell_type": "code",
   "execution_count": null,
   "id": "a34d56c8",
   "metadata": {},
   "outputs": [],
   "source": [
    "# Compile the network \n",
    "model.compile(optimizer ='adam', \n",
    "              loss = 'binary_crossentropy', \n",
    "              metrics = ['accuracy'] \n",
    "             )"
   ]
  },
  {
   "cell_type": "code",
   "execution_count": null,
   "id": "1ad1fd43",
   "metadata": {},
   "outputs": [],
   "source": [
    "# train the model \n",
    "model.fit(X_train,y_train,epochs = 5)"
   ]
  },
  {
   "cell_type": "code",
   "execution_count": null,
   "id": "983442b5",
   "metadata": {},
   "outputs": [],
   "source": [
    "# Evaluate the model \n",
    "model.evaluate(X_test,y_test)"
   ]
  },
  {
   "cell_type": "code",
   "execution_count": null,
   "id": "8f0c5b0b",
   "metadata": {},
   "outputs": [],
   "source": [
    "# Predict based on ANN \n",
    "model yp = model.predict(X_test)"
   ]
  },
  {
   "cell_type": "code",
   "execution_count": null,
   "id": "66cc24b0",
   "metadata": {},
   "outputs": [],
   "source": [
    "y_pred = [] \n",
    "for element in yp: \n",
    "    if element > 0.5: \n",
    "        y_pred.append(1) \n",
    "    else: \n",
    "        y_pred.append(0)"
   ]
  },
  {
   "cell_type": "code",
   "execution_count": null,
   "id": "ba996847",
   "metadata": {},
   "outputs": [],
   "source": [
    "# Check accuracy of the model \n",
    "accuracy_score(y_test, y_pred)"
   ]
  }
 ],
 "metadata": {
  "kernelspec": {
   "display_name": "Python 3 (ipykernel)",
   "language": "python",
   "name": "python3"
  },
  "language_info": {
   "codemirror_mode": {
    "name": "ipython",
    "version": 3
   },
   "file_extension": ".py",
   "mimetype": "text/x-python",
   "name": "python",
   "nbconvert_exporter": "python",
   "pygments_lexer": "ipython3",
   "version": "3.10.8"
  }
 },
 "nbformat": 4,
 "nbformat_minor": 5
}
